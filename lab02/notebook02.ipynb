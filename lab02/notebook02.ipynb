{
 "cells": [
  {
   "cell_type": "code",
   "execution_count": 1,
   "metadata": {},
   "outputs": [],
   "source": [
    "import pandas\n",
    "import matplotlib\n",
    "import numpy"
   ]
  },
  {
   "cell_type": "code",
   "execution_count": 2,
   "metadata": {},
   "outputs": [],
   "source": [
    "data_1 = pandas.read_csv('pomiary/01_var_angle.csv')\n",
    "data_2 = pandas.read_csv('pomiary/02_small_angle.csv')\n",
    "data_3 = pandas.read_csv('pomiary/03_big_angle.csv')"
   ]
  },
  {
   "cell_type": "code",
   "execution_count": 3,
   "metadata": {},
   "outputs": [
    {
     "name": "stdout",
     "output_type": "stream",
     "text": [
      "     5deg   10deg   15deg   20deg   25deg   30deg\n",
      "0  2.6285  2.6343  2.6368  2.6454  2.6585  2.6701\n",
      "1  2.6295  2.6346  2.6359  2.6463  2.6589  2.6711\n",
      "2  2.6295  2.6344  2.6402  2.6467  2.6582  2.6714\n",
      "3  2.6307  2.6366  2.6394  2.6470  2.6590  2.6709\n",
      "4  2.6296  2.6358  2.6408  2.6467  2.6578  2.6701\n",
      "5  2.6286  2.6350  2.6404  2.6463  2.6593  2.6685\n",
      "6  2.6285  2.6342  2.6396  2.6463  2.6574  2.6698\n",
      "7  2.6303  2.6350  2.6401  2.6477  2.6588  2.6696\n",
      "8  2.6287  2.6352  2.6395  2.6476  2.6583  2.6694\n",
      "9  2.6298  2.6350  2.6396  2.6485  2.6584  2.6708\n"
     ]
    }
   ],
   "source": [
    "print(data_1)"
   ]
  },
  {
   "cell_type": "code",
   "execution_count": 4,
   "metadata": {},
   "outputs": [
    {
     "name": "stdout",
     "output_type": "stream",
     "text": [
      "\\begin{tabular}{lrrrrrr}\n",
      "\\toprule\n",
      "{} &    5deg &   10deg &   15deg &   20deg &   25deg &   30deg \\\\\n",
      "\\midrule\n",
      "0 &  2.6285 &  2.6343 &  2.6368 &  2.6454 &  2.6585 &  2.6701 \\\\\n",
      "1 &  2.6295 &  2.6346 &  2.6359 &  2.6463 &  2.6589 &  2.6711 \\\\\n",
      "2 &  2.6295 &  2.6344 &  2.6402 &  2.6467 &  2.6582 &  2.6714 \\\\\n",
      "3 &  2.6307 &  2.6366 &  2.6394 &  2.6470 &  2.6590 &  2.6709 \\\\\n",
      "4 &  2.6296 &  2.6358 &  2.6408 &  2.6467 &  2.6578 &  2.6701 \\\\\n",
      "5 &  2.6286 &  2.6350 &  2.6404 &  2.6463 &  2.6593 &  2.6685 \\\\\n",
      "6 &  2.6285 &  2.6342 &  2.6396 &  2.6463 &  2.6574 &  2.6698 \\\\\n",
      "7 &  2.6303 &  2.6350 &  2.6401 &  2.6477 &  2.6588 &  2.6696 \\\\\n",
      "8 &  2.6287 &  2.6352 &  2.6395 &  2.6476 &  2.6583 &  2.6694 \\\\\n",
      "9 &  2.6298 &  2.6350 &  2.6396 &  2.6485 &  2.6584 &  2.6708 \\\\\n",
      "\\bottomrule\n",
      "\\end{tabular}\n",
      "\n"
     ]
    }
   ],
   "source": [
    "print(data_1.to_latex())"
   ]
  },
  {
   "cell_type": "code",
   "execution_count": 5,
   "metadata": {},
   "outputs": [
    {
     "data": {
      "text/plain": [
       "5deg     2.62937\n",
       "10deg    2.63501\n",
       "15deg    2.63923\n",
       "20deg    2.64685\n",
       "25deg    2.65846\n",
       "30deg    2.67017\n",
       "dtype: float64"
      ]
     },
     "execution_count": 5,
     "metadata": {},
     "output_type": "execute_result"
    }
   ],
   "source": [
    "data_1.mean()"
   ]
  },
  {
   "cell_type": "code",
   "execution_count": 6,
   "metadata": {},
   "outputs": [
    {
     "data": {
      "text/plain": [
       "5deg     0.00078\n",
       "10deg    0.00074\n",
       "15deg    0.00160\n",
       "20deg    0.00089\n",
       "25deg    0.00057\n",
       "30deg    0.00089\n",
       "dtype: float64"
      ]
     },
     "execution_count": 6,
     "metadata": {},
     "output_type": "execute_result"
    }
   ],
   "source": [
    "data_1.std().round(5)\n"
   ]
  },
  {
   "cell_type": "code",
   "execution_count": 7,
   "metadata": {},
   "outputs": [],
   "source": [
    "angles_with_means = {'kąt (°)': [5,10,15,20,25,30], 'wartość średnia 2T (s)': data_1.mean()}\n",
    "df = pandas.DataFrame(angles_with_means)\n",
    "df.plot(kind='scatter', x='kąt (°)', y='wartość średnia 2T (s)')\n",
    "matplotlib.pyplot.savefig('wykres-1_0.pdf')"
   ]
  },
  {
   "cell_type": "code",
   "execution_count": 8,
   "metadata": {},
   "outputs": [
    {
     "data": {
      "image/png": "[encoded data removed]",
      "text/plain": [
       "<Figure size 432x288 with 1 Axes>"
      ]
     },
     "metadata": {},
     "output_type": "display_data"
    }
   ],
   "source": [
    "matplotlib.pyplot.plot(df['kąt (°)'], df['wartość średnia 2T (s)'], 'o')\n",
    "matplotlib.pyplot.savefig('wykres-1_1.pdf')"
   ]
  },
  {
   "cell_type": "code",
   "execution_count": 9,
   "metadata": {},
   "outputs": [
    {
     "data": {
      "image/png": "[encoded data removed]",
      "text/plain": [
       "<Figure size 432x288 with 1 Axes>"
      ]
     },
     "metadata": {},
     "output_type": "display_data"
    }
   ],
   "source": [
    "angles_with_std = {'kąt (°)': [5,10,15,20,25,30], 's(2T) (s)': data_1.std().round(5)}\n",
    "df2 = pandas.DataFrame(angles_with_std)\n",
    "df2.plot(kind='scatter', x='kąt (°)', y='s(2T) (s)')\n",
    "matplotlib.pyplot.savefig('wykres-2_0.pdf',  bbox_inches='tight', pad_inches=0)"
   ]
  },
  {
   "cell_type": "code",
   "execution_count": 19,
   "metadata": {
    "scrolled": true
   },
   "outputs": [
    {
     "data": {
      "image/png": "[encoded data removed]",
      "text/plain": [
       "<Figure size 432x288 with 1 Axes>"
      ]
     },
     "metadata": {},
     "output_type": "display_data"
    }
   ],
   "source": [
    "fig = matplotlib.pyplot.figure()\n",
    "matplotlib.pyplot.plot(df2['kąt (°)'], df2['s(2T) (s)'], 'o')\n",
    "matplotlib.pyplot.xlabel('kąt (°)')\n",
    "matplotlib.pyplot.ylim(0.0004,0.0018)\n",
    "matplotlib.pyplot.ylabel('odchylenie standardowe 2T (s)')\n",
    "#fig.set_size_inches()\n",
    "matplotlib.pyplot.savefig('wykres-2_1.pdf',  bbox_inches='tight', pad_inches=0.1)"
   ]
  },
  {
   "cell_type": "code",
   "execution_count": 11,
   "metadata": {},
   "outputs": [
    {
     "name": "stdout",
     "output_type": "stream",
     "text": [
      "\\begin{tabular}{lrrrrrr}\n",
      "\\toprule\n",
      "{} &  l (mm) &  kT (s) &          X &        X\\textasciicircum2 &     Y\\textasciicircum2 &         XY \\\\\n",
      "\\midrule\n",
      "0 &     480 &  2.6325 &  43.885094 &  1925.9015 &  230400 &  21064.845 \\\\\n",
      "1 &     460 &  2.6918 &  45.884484 &  2105.3859 &  211600 &  21106.863 \\\\\n",
      "2 &     440 &  2.7515 &  47.942349 &  2298.4688 &  193600 &  21094.634 \\\\\n",
      "3 &     420 &  2.8101 &  50.006196 &  2500.6196 &  176400 &  21002.602 \\\\\n",
      "4 &     400 &  2.8676 &  52.073578 &  2711.6575 &  160000 &  20829.431 \\\\\n",
      "5 &     380 &  2.9218 &  54.060647 &  2922.5536 &  144400 &  20543.046 \\\\\n",
      "\\bottomrule\n",
      "\\end{tabular}\n",
      "\n"
     ]
    }
   ],
   "source": [
    "print(data_2.to_latex())"
   ]
  },
  {
   "cell_type": "code",
   "execution_count": 12,
   "metadata": {},
   "outputs": [
    {
     "data": {
      "text/plain": [
       "14464.586899999998"
      ]
     },
     "execution_count": 12,
     "metadata": {},
     "output_type": "execute_result"
    }
   ],
   "source": [
    "data_2.sum()[3]\n"
   ]
  },
  {
   "cell_type": "code",
   "execution_count": 13,
   "metadata": {},
   "outputs": [
    {
     "data": {
      "text/plain": [
       "(-9.788606211052448, 909.4008197941909)"
      ]
     },
     "execution_count": 13,
     "metadata": {},
     "output_type": "execute_result"
    }
   ],
   "source": [
    "n = data_2.count()[0]\n",
    "s_vec = data_2.sum()\n",
    "a = ( n * s_vec[5] - s_vec[2] * s_vec[0] ) / ( n * s_vec[3] - s_vec[2] ** 2)\n",
    "b = ( s_vec[0] - a * s_vec[2] ) / n\n",
    "a, b"
   ]
  },
  {
   "cell_type": "code",
   "execution_count": 14,
   "metadata": {},
   "outputs": [
    {
     "data": {
      "image/png": "[encoded data removed]",
      "text/plain": [
       "<Figure size 432x288 with 1 Axes>"
      ]
     },
     "metadata": {},
     "output_type": "display_data"
    }
   ],
   "source": [
    "matplotlib.pyplot.plot(data_2['X'], data_2['l (mm)'], 'o')\n",
    "matplotlib.pyplot.xlabel('1000T^2 / 4π^2 (s^2)')\n",
    "matplotlib.pyplot.ylabel('l (mm)')\n",
    "matplotlib.pyplot.xlim(41,57)\n",
    "matplotlib.pyplot.ylim(360,490)\n",
    "\n",
    "x = numpy.linspace(40, 58)\n",
    "y = a*x + b\n",
    "matplotlib.pyplot.plot(x, y)\n",
    "\n",
    "matplotlib.pyplot.text(50,450, 'a = {}\\nb =  {}'.format(a.round(7), b.round(5)), bbox=dict(facecolor='orange', alpha=0.25))\n",
    "matplotlib.pyplot.legend(['pomiary','metoda najmniejszych kwadratów'])\n",
    "\n",
    "matplotlib.pyplot.savefig('wykres-3_0.pdf')"
   ]
  },
  {
   "cell_type": "code",
   "execution_count": 15,
   "metadata": {},
   "outputs": [
    {
     "name": "stdout",
     "output_type": "stream",
     "text": [
      "\\begin{tabular}{lrrrrrr}\n",
      "\\toprule\n",
      "{} &  l (mm) &  kT (s) &         X &        X\\textasciicircum2 &     Y\\textasciicircum2 &         XY \\\\\n",
      "\\midrule\n",
      "0 &     480 &  2.6582 &  44.74614 &  2002.2170 &  230400 &  21478.147 \\\\\n",
      "1 &     460 &  2.7160 &  46.71322 &  2182.1249 &  211600 &  21488.081 \\\\\n",
      "2 &     440 &  2.7764 &  48.81399 &  2382.8056 &  193600 &  21478.136 \\\\\n",
      "3 &     420 &  2.8339 &  50.85683 &  2586.4132 &  176400 &  21359.869 \\\\\n",
      "4 &     400 &  2.8918 &  52.95620 &  2804.3591 &  160000 &  21182.480 \\\\\n",
      "5 &     380 &  2.9494 &  55.08681 &  3034.5566 &  144400 &  20932.988 \\\\\n",
      "\\bottomrule\n",
      "\\end{tabular}\n",
      "\n"
     ]
    }
   ],
   "source": [
    "print(data_3.to_latex())"
   ]
  },
  {
   "cell_type": "code",
   "execution_count": 16,
   "metadata": {},
   "outputs": [
    {
     "name": "stdout",
     "output_type": "stream",
     "text": [
      "2580.0\n",
      "16.8257\n",
      "299.17319\n",
      "14992.476399999998\n",
      "1116400.0\n",
      "127919.701\n"
     ]
    }
   ],
   "source": [
    "for d in data_3.sum():\n",
    "    print(d)"
   ]
  },
  {
   "cell_type": "code",
   "execution_count": 17,
   "metadata": {},
   "outputs": [
    {
     "data": {
      "text/plain": [
       "(-9.658012295779917, 911.5697245979503)"
      ]
     },
     "execution_count": 17,
     "metadata": {},
     "output_type": "execute_result"
    }
   ],
   "source": [
    "n = data_3.count()[0]\n",
    "s_vec = data_3.sum()\n",
    "a = ( n * s_vec[5] - s_vec[2] * s_vec[0] ) / ( n * s_vec[3] - s_vec[2] ** 2)\n",
    "b = ( s_vec[0] - a * s_vec[2] ) / n\n",
    "a, b"
   ]
  },
  {
   "cell_type": "code",
   "execution_count": 18,
   "metadata": {},
   "outputs": [
    {
     "data": {
      "image/png": "[encoded data removed]",
      "text/plain": [
       "<Figure size 432x288 with 1 Axes>"
      ]
     },
     "metadata": {},
     "output_type": "display_data"
    }
   ],
   "source": [
    "matplotlib.pyplot.plot(data_3['X'], data_3['l (mm)'], 'o')\n",
    "matplotlib.pyplot.xlabel('1000T^2 / 4π^2 (s^2)')\n",
    "matplotlib.pyplot.ylabel('l (mm)')\n",
    "matplotlib.pyplot.xlim(41,57)\n",
    "matplotlib.pyplot.ylim(360,490)\n",
    "\n",
    "x = numpy.linspace(40, 58)\n",
    "y = a*x + b\n",
    "matplotlib.pyplot.plot(x, y)\n",
    "\n",
    "\n",
    "matplotlib.pyplot.text(50,450, 'a = {}\\nb =  {}'.format(a.round(7), b.round(5)), bbox=dict(facecolor='orange', alpha=0.25))\n",
    "\n",
    "matplotlib.pyplot.legend(['pomiary','metoda najmniejszych kwadratów'])\n",
    "\n",
    "matplotlib.pyplot.savefig('wykres-4_0.pdf')"
   ]
  },
  {
   "cell_type": "code",
   "execution_count": null,
   "metadata": {},
   "outputs": [],
   "source": []
  }
 ],
 "metadata": {
  "kernelspec": {
   "display_name": "Python 3",
   "language": "python",
   "name": "python3"
  },
  "language_info": {
   "codemirror_mode": {
    "name": "ipython",
    "version": 3
   },
   "file_extension": ".py",
   "mimetype": "text/x-python",
   "name": "python",
   "nbconvert_exporter": "python",
   "pygments_lexer": "ipython3",
   "version": "3.6.3"
  }
 },
 "nbformat": 4,
 "nbformat_minor": 2
}
