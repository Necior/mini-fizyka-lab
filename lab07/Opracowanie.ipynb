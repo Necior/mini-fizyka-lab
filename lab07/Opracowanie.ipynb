{
 "cells": [
  {
   "cell_type": "code",
   "execution_count": 23,
   "metadata": {},
   "outputs": [],
   "source": [
    "import math\n",
    "import pandas as pd\n",
    "import matplotlib"
   ]
  },
  {
   "cell_type": "code",
   "execution_count": 24,
   "metadata": {},
   "outputs": [],
   "source": [
    "rosnace = pd.DataFrame({\n",
    "    '$U$ (kV)': [\n",
    "        3.51, 3.90,  4.30,  4.71,  5.09,\n",
    "        5.50, 5.94,  6.30,  6.70,  7.11,\n",
    "        7.50, 7.92,  8.29,  8.69,  9.10,\n",
    "        9.50, 9.90, 10.30, 10.69, 11.10,\n",
    "    ],\n",
    "    '$D_w$ (mm)': [\n",
    "        22, 20, 17, 19, 17, 17, 16, 16, 14, 13,\n",
    "        14, 13, 14, 13, 14, 13, 13, 12, 12, 12,\n",
    "    ],\n",
    "    '$D_z$ (mm)': [\n",
    "        28, 28, 27, 25, 20, 23, 22, 21, 20, 19,\n",
    "        18, 18, 18, 18, 18, 18, 17, 17, 17, 17,\n",
    "    ]\n",
    "})"
   ]
  },
  {
   "cell_type": "code",
   "execution_count": 25,
   "metadata": {},
   "outputs": [],
   "source": [
    "malejace = pd.DataFrame({\n",
    "    '$U$ (kV)': [\n",
    "        11.10, 10.69, 10.30, 9.89, 9.50,\n",
    "         9.10,  8.70,  8.30, 7.89, 7.50,\n",
    "         7.10,  6.71,  6.33, 5.90, 5.50,\n",
    "         5.12,  4.71,  4.31, 3.89, 3.49,\n",
    "    ],\n",
    "    '$D_w$ (mm)': [\n",
    "        14, 14, 14, 14, 14, 15, 14, 15, 15, 15,\n",
    "        16, 16, 17, 18, 20, 19, 19, 21, 20, 22,\n",
    "    ],\n",
    "    '$D_z$ (mm)': [\n",
    "        16, 17, 16, 18, 18, 18, 18, 18, 19, 19,\n",
    "        19, 19, 20, 23, 24, 25, 25, 27, 27, 29,\n",
    "    ]\n",
    "})"
   ]
  },
  {
   "cell_type": "code",
   "execution_count": 26,
   "metadata": {},
   "outputs": [],
   "source": [
    "#df, filename = rosnace, 'sprawozdanie/wykres_A.pdf'\n",
    "df, filename = malejace, 'sprawozdanie/wykres_B.pdf'"
   ]
  },
  {
   "cell_type": "code",
   "execution_count": 27,
   "metadata": {},
   "outputs": [],
   "source": [
    "df.index += 1"
   ]
  },
  {
   "cell_type": "code",
   "execution_count": 28,
   "metadata": {},
   "outputs": [],
   "source": [
    "def uzupelnij_ramki(df):\n",
    "    # dodaj średnicę\n",
    "    df['$D$ (mm)'] = df[['$D_z$ (mm)', '$D_w$ (mm)']].mean(axis=1)\n",
    "\n",
    "    # dodaj odwrotność pierwiastka napięcia\n",
    "    df[r'$X$ ($\\frac{1}{\\sqrt{kV}}$)'] = 1/df['$U$ (kV)'].pow(0.5)"
   ]
  },
  {
   "cell_type": "code",
   "execution_count": 29,
   "metadata": {},
   "outputs": [],
   "source": [
    "def niepewnosc_X(U):\n",
    "    return 0.09/(2 * math.sqrt(3) * math.sqrt(U**3))"
   ]
  },
  {
   "cell_type": "code",
   "execution_count": 30,
   "metadata": {},
   "outputs": [],
   "source": [
    "uzupelnij_ramki(df)"
   ]
  },
  {
   "cell_type": "code",
   "execution_count": 31,
   "metadata": {},
   "outputs": [],
   "source": [
    "import scipy.odr as odr\n",
    "linear = odr.polynomial(1)\n",
    "odr_res = (\n",
    "    odr.ODR(\n",
    "        odr.RealData(\n",
    "            df[r'$X$ ($\\frac{1}{\\sqrt{kV}}$)'],\n",
    "            df['$D$ (mm)'],\n",
    "            sx=df[r'$U$ (kV)'].apply(niepewnosc_X),\n",
    "            sy=[1]*20,\n",
    "        ),\n",
    "        linear)\n",
    "    .run()\n",
    ")\n",
    "b_a = odr_res.beta"
   ]
  },
  {
   "cell_type": "code",
   "execution_count": 32,
   "metadata": {},
   "outputs": [
    {
     "name": "stdout",
     "output_type": "stream",
     "text": [
      "a = 45.51691789324807 ± 2.274920005763129 \n",
      "b = 0.17663825891590795 ± 0.8906599787435814\n"
     ]
    }
   ],
   "source": [
    "std_b, std_a = odr_res.sd_beta\n",
    "print(f'a = {a} ± {std_a} \\nb = {b} ± {std_b}')"
   ]
  },
  {
   "cell_type": "code",
   "execution_count": 33,
   "metadata": {},
   "outputs": [
    {
     "name": "stdout",
     "output_type": "stream",
     "text": [
      "([0.3001501125938321, 0.5352877275721892], [13.838546289498527, 24.541285804082587])\n"
     ]
    }
   ],
   "source": [
    "def get_fit_xy():\n",
    "    series = df[r'$X$ ($\\frac{1}{\\sqrt{kV}}$)']\n",
    "    x = [series.min(), series.max()]\n",
    "    y = [a*x_ + b for x_ in x]\n",
    "    return (x, y)\n",
    "print(get_fit_xy())"
   ]
  },
  {
   "cell_type": "code",
   "execution_count": 34,
   "metadata": {},
   "outputs": [
    {
     "data": {
      "image/png": "[encoded data removed]",
      "text/plain": [
       "<Figure size 432x288 with 1 Axes>"
      ]
     },
     "metadata": {},
     "output_type": "display_data"
    }
   ],
   "source": [
    "ax = df.plot(\n",
    "    kind='scatter',\n",
    "    s=10,  # \"thickness\" of points\n",
    "    y='$D$ (mm)',\n",
    "    x=r'$X$ ($\\frac{1}{\\sqrt{kV}}$)',\n",
    "    xerr=df[r'$U$ (kV)'].apply(niepewnosc_X),\n",
    "    yerr=1,\n",
    ")\n",
    "x, y = get_fit_xy()\n",
    "reg = pd.DataFrame(data={'prosta regresji liniowej': y}, index=x)\n",
    "reg.plot(ax=ax)\n",
    "matplotlib.pyplot.savefig(filename)"
   ]
  },
  {
   "cell_type": "code",
   "execution_count": null,
   "metadata": {},
   "outputs": [],
   "source": []
  },
  {
   "cell_type": "code",
   "execution_count": null,
   "metadata": {},
   "outputs": [],
   "source": []
  },
  {
   "cell_type": "code",
   "execution_count": null,
   "metadata": {},
   "outputs": [],
   "source": []
  }
 ],
 "metadata": {
  "kernelspec": {
   "display_name": "Python 3",
   "language": "python",
   "name": "python3"
  },
  "language_info": {
   "codemirror_mode": {
    "name": "ipython",
    "version": 3
   },
   "file_extension": ".py",
   "mimetype": "text/x-python",
   "name": "python",
   "nbconvert_exporter": "python",
   "pygments_lexer": "ipython3",
   "version": "3.6.3"
  }
 },
 "nbformat": 4,
 "nbformat_minor": 2
}
