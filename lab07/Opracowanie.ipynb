{
 "cells": [
  {
   "cell_type": "code",
   "execution_count": 1,
   "metadata": {},
   "outputs": [],
   "source": [
    "import math\n",
    "import pandas as pd\n",
    "import matplotlib"
   ]
  },
  {
   "cell_type": "code",
   "execution_count": 2,
   "metadata": {},
   "outputs": [],
   "source": [
    "rosnace = pd.DataFrame({\n",
    "    '$U$ (kV)': [\n",
    "        3.51, 3.90,  4.30,  4.71,  5.09,\n",
    "        5.50, 5.94,  6.30,  6.70,  7.11,\n",
    "        7.50, 7.92,  8.29,  8.69,  9.10,\n",
    "        9.50, 9.90, 10.30, 10.69, 11.10,\n",
    "    ],\n",
    "    '$D_w$ (mm)': [\n",
    "        22, 20, 17, 19, 17, 17, 16, 16, 14, 13,\n",
    "        14, 13, 14, 13, 14, 13, 13, 12, 12, 12,\n",
    "    ],\n",
    "    '$D_z$ (mm)': [\n",
    "        28, 28, 27, 25, 20, 23, 22, 21, 20, 19,\n",
    "        18, 18, 18, 18, 18, 18, 17, 17, 17, 17,\n",
    "    ]\n",
    "})"
   ]
  },
  {
   "cell_type": "code",
   "execution_count": 3,
   "metadata": {},
   "outputs": [],
   "source": [
    "malejace = pd.DataFrame({\n",
    "    '$U$ (kV)': [\n",
    "        11.10, 10.69, 10.30, 9.89, 9.50,\n",
    "         9.10,  8.70,  8.30, 7.89, 7.50,\n",
    "         7.10,  6.71,  6.33, 5.90, 5.50,\n",
    "         5.12,  4.71,  4.31, 3.89, 3.49,\n",
    "    ],\n",
    "    '$D_w$ (mm)': [\n",
    "        14, 14, 14, 14, 14, 15, 14, 15, 15, 15,\n",
    "        16, 16, 17, 18, 20, 19, 19, 21, 20, 22,\n",
    "    ],\n",
    "    '$D_z$ (mm)': [\n",
    "        16, 17, 16, 18, 18, 18, 18, 18, 19, 19,\n",
    "        19, 19, 20, 23, 24, 25, 25, 27, 27, 29,\n",
    "    ]\n",
    "})"
   ]
  },
  {
   "cell_type": "code",
   "execution_count": 4,
   "metadata": {},
   "outputs": [],
   "source": [
    "df, filename = rosnace, 'sprawozdanie/wykres_A.pdf'\n",
    "#df, filename = malejace, 'sprawozdanie/wykres_B.pdf'"
   ]
  },
  {
   "cell_type": "code",
   "execution_count": 5,
   "metadata": {},
   "outputs": [],
   "source": [
    "df.index += 1"
   ]
  },
  {
   "cell_type": "code",
   "execution_count": 6,
   "metadata": {},
   "outputs": [],
   "source": [
    "niepewnosc_D = 1"
   ]
  },
  {
   "cell_type": "code",
   "execution_count": 7,
   "metadata": {},
   "outputs": [],
   "source": [
    "def uzupelnij_ramki(df):\n",
    "    # dodaj średnicę\n",
    "    df['$D$ (mm)'] = df[['$D_z$ (mm)', '$D_w$ (mm)']].mean(axis=1)\n",
    "\n",
    "    # dodaj odwrotność pierwiastka napięcia\n",
    "    df[r'$X$ ($\\frac{1}{\\sqrt{kV}}$)'] = 1/df['$U$ (kV)'].pow(0.5)"
   ]
  },
  {
   "cell_type": "code",
   "execution_count": 8,
   "metadata": {},
   "outputs": [],
   "source": [
    "def niepewnosc_X(U):\n",
    "    return 0.09/(2 * math.sqrt(3) * math.sqrt(U**3))"
   ]
  },
  {
   "cell_type": "code",
   "execution_count": 9,
   "metadata": {},
   "outputs": [],
   "source": [
    "uzupelnij_ramki(df)"
   ]
  },
  {
   "cell_type": "code",
   "execution_count": 10,
   "metadata": {},
   "outputs": [],
   "source": [
    "import scipy.odr as odr\n",
    "linear = odr.polynomial(1)\n",
    "odr_res = (\n",
    "    odr.ODR(\n",
    "        odr.RealData(\n",
    "            df[r'$X$ ($\\frac{1}{\\sqrt{kV}}$)'],\n",
    "            df['$D$ (mm)'],\n",
    "            sx=df[r'$U$ (kV)'].apply(niepewnosc_X),\n",
    "            sy=[niepewnosc_D]*20,\n",
    "        ),\n",
    "        linear)\n",
    "    .run()\n",
    ")\n",
    "b, a = odr_res.beta"
   ]
  },
  {
   "cell_type": "code",
   "execution_count": 11,
   "metadata": {},
   "outputs": [
    {
     "name": "stdout",
     "output_type": "stream",
     "text": [
      "a = 45.51691789324807 ± 2.498949635500367 \n",
      "b = 0.17663825891590795 ± 0.9783442365707548\n"
     ]
    }
   ],
   "source": [
    "std_b, std_a = odr_res.sd_beta\n",
    "print(f'a = {a} ± {std_a} \\nb = {b} ± {std_b}')"
   ]
  },
  {
   "cell_type": "code",
   "execution_count": 12,
   "metadata": {},
   "outputs": [
    {
     "name": "stdout",
     "output_type": "stream",
     "text": [
      "([0.3001501125938321, 0.5337605126836238], [13.838546289498527, 24.47177168939441])\n"
     ]
    }
   ],
   "source": [
    "def get_fit_xy():\n",
    "    series = df[r'$X$ ($\\frac{1}{\\sqrt{kV}}$)']\n",
    "    x = [series.min(), series.max()]\n",
    "    y = [a*x_ + b for x_ in x]\n",
    "    return (x, y)\n",
    "print(get_fit_xy())"
   ]
  },
  {
   "cell_type": "code",
   "execution_count": 13,
   "metadata": {},
   "outputs": [],
   "source": [
    "ax = df.plot(\n",
    "    kind='scatter',\n",
    "    s=10,  # \"thickness\" of points\n",
    "    y='$D$ (mm)',\n",
    "    x=r'$X$ ($\\frac{1}{\\sqrt{kV}}$)',\n",
    "    xerr=df[r'$U$ (kV)'].apply(niepewnosc_X),\n",
    "    yerr=niepewnosc_D,\n",
    ")\n",
    "x, y = get_fit_xy()\n",
    "reg = pd.DataFrame(data={'prosta regresji liniowej': y}, index=x)\n",
    "reg.plot(ax=ax)\n",
    "matplotlib.pyplot.savefig(filename)"
   ]
  },
  {
   "cell_type": "code",
   "execution_count": 14,
   "metadata": {},
   "outputs": [],
   "source": [
    "# zdefiniujmy potrzebne stałe fizyczny i inne wartości\n",
    "r = 127  # (mm) ± 3 mm; odlgegłość folia-ekran; wzięte z instrukcji\n",
    "h = 6.62 # (J*s); stała Plancka; https://pl.wikipedia.org/wiki/Sta%C5%82a_Plancka\n",
    "m = 9.11 * 10**(-31) # (kg); masa spoczynkowa elektronu; D. Halliday, R. Resnick, Fizyka, Tom 2\n",
    "e = 1.60 * 10**(-19) # (C); ładunek elektronu"
   ]
  },
  {
   "cell_type": "code",
   "execution_count": 15,
   "metadata": {},
   "outputs": [],
   "source": [
    "d = (r * h)/(a) * math.sqrt(2/(m*e))"
   ]
  },
  {
   "cell_type": "code",
   "execution_count": 16,
   "metadata": {},
   "outputs": [],
   "source": [
    "def niepewnosc_d(r, h, a, m, e, ur, uh, ua, um, ue):\n",
    "    niepewnosci = [ur, uh, ua, um, ue]\n",
    "    niepewnosci_w_kwadratach = [u**2 for u in niepewnosci]\n",
    "    \n",
    "    ulamki = [\n",
    "        2 * h**2 / (m * e * a**2),\n",
    "        2 * r**2 / (m * e * a**2),\n",
    "        2 * h**2 * r**2 / (m * e * a**4),\n",
    "        h**2 * r**2 / (2 * e * a**2 * m**3),\n",
    "        h**2 * r**2 / (2 * m * a**2 * e**3),\n",
    "    ]\n",
    "    \n",
    "    return math.sqrt(sum(a * b for a, b in zip(ulamki, niepewnosci_w_kwadratach)))"
   ]
  },
  {
   "cell_type": "code",
   "execution_count": 17,
   "metadata": {},
   "outputs": [],
   "source": [
    "dziwna_jednostka = 0.04472 # w metrach"
   ]
  },
  {
   "cell_type": "code",
   "execution_count": 18,
   "metadata": {},
   "outputs": [
    {
     "data": {
      "text/plain": [
       "1.8311440172431663e-11"
      ]
     },
     "execution_count": 18,
     "metadata": {},
     "output_type": "execute_result"
    }
   ],
   "source": [
    "niepewnosc_d(\n",
    "    127, 6.626070040 * 10**(-34), 45.5, 9.10938356 * 10**(-31), 1.6021766208 * 10**(-19),\n",
    "    3, 0.000000081 * 10**(-34),  2.5, 0.00000011 * 10**(-31), 0.0000000098 * 10**(-19),\n",
    ") * dziwna_jednostka"
   ]
  },
  {
   "cell_type": "code",
   "execution_count": 19,
   "metadata": {},
   "outputs": [],
   "source": [
    "r, h, a, m, e = 127, 6.626070040 * 10**(-34), 45.5, 9.10938356 * 10**(-31), 1.6021766208 * 10**(-19)"
   ]
  },
  {
   "cell_type": "code",
   "execution_count": 20,
   "metadata": {},
   "outputs": [],
   "source": [
    "d = r*h/a * math.sqrt(2/(m*e))"
   ]
  },
  {
   "cell_type": "code",
   "execution_count": 21,
   "metadata": {},
   "outputs": [
    {
     "data": {
      "text/plain": [
       "3.061719848965038e-10"
      ]
     },
     "execution_count": 21,
     "metadata": {},
     "output_type": "execute_result"
    }
   ],
   "source": [
    "d * dziwna_jednostka"
   ]
  },
  {
   "cell_type": "code",
   "execution_count": null,
   "metadata": {},
   "outputs": [],
   "source": []
  }
 ],
 "metadata": {
  "kernelspec": {
   "display_name": "Python 3",
   "language": "python",
   "name": "python3"
  },
  "language_info": {
   "codemirror_mode": {
    "name": "ipython",
    "version": 3
   },
   "file_extension": ".py",
   "mimetype": "text/x-python",
   "name": "python",
   "nbconvert_exporter": "python",
   "pygments_lexer": "ipython3",
   "version": "3.6.3"
  }
 },
 "nbformat": 4,
 "nbformat_minor": 2
}
