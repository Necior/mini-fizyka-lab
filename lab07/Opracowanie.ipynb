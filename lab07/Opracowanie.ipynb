{
 "cells": [
  {
   "cell_type": "code",
   "execution_count": 1,
   "metadata": {},
   "outputs": [],
   "source": [
    "import pandas as pd"
   ]
  },
  {
   "cell_type": "code",
   "execution_count": 2,
   "metadata": {},
   "outputs": [],
   "source": [
    "rosnace = pd.DataFrame({\n",
    "    'U (kV)': [\n",
    "        3.51, 3.90,  4.30,  4.71,  5.09,\n",
    "        5.50, 5.94,  6.30,  6.70,  7.11,\n",
    "        7.50, 7.92,  8.29,  8.69,  9.10,\n",
    "        9.50, 9.90, 10.30, 10.69, 11.10,\n",
    "    ],\n",
    "    'Rw (mm)': [\n",
    "        22, 20, 17, 19, 17, 17, 16, 16, 14, 13,\n",
    "        14, 13, 14, 13, 14, 13, 13, 12, 12, 12,\n",
    "    ],\n",
    "    'Rz (mm)': [\n",
    "        28, 28, 27, 25, 20, 23, 22, 21, 20, 19,\n",
    "        18, 18, 18, 18, 18, 18, 17, 17, 17, 17,\n",
    "    ]\n",
    "})"
   ]
  },
  {
   "cell_type": "code",
   "execution_count": 3,
   "metadata": {},
   "outputs": [],
   "source": [
    "malejace = pd.DataFrame({\n",
    "    'U (kV)': [\n",
    "        11.10, 10.69, 10.30, 9.89, 9.50,\n",
    "         9.10,  8.70,  8.30, 7.89, 7.50,\n",
    "         7.10,  6.71,  6.33, 5.90, 5.50,\n",
    "         5.12,  4.71,  4.31, 3.89, 3.49,\n",
    "    ],\n",
    "    'Rw (mm)': [\n",
    "        14, 14, 14, 14, 14, 15, 14, 15, 15, 15,\n",
    "        16, 16, 17, 18, 20, 19, 19, 21, 20, 22,\n",
    "    ],\n",
    "    'Rz (mm)': [\n",
    "        16, 17, 16, 18, 18, 18, 18, 18, 19, 19,\n",
    "        19, 19, 20, 23, 24, 25, 25, 27, 27, 29,\n",
    "    ]\n",
    "})"
   ]
  },
  {
   "cell_type": "code",
   "execution_count": 4,
   "metadata": {},
   "outputs": [],
   "source": [
    "def uzupelnij_ramki(df):\n",
    "    # dodaj średnicę\n",
    "    df['d (mm)'] = df[['Rz (mm)', 'Rw (mm)']].mean(axis=1)\n",
    "    \n",
    "    # dodaj odwrotność pierwiastka napięcia\n",
    "    df['x'] = 1/df['U (kV)'].pow(2)"
   ]
  },
  {
   "cell_type": "code",
   "execution_count": null,
   "metadata": {},
   "outputs": [],
   "source": []
  }
 ],
 "metadata": {
  "kernelspec": {
   "display_name": "Python 3",
   "language": "python",
   "name": "python3"
  },
  "language_info": {
   "codemirror_mode": {
    "name": "ipython",
    "version": 3
   },
   "file_extension": ".py",
   "mimetype": "text/x-python",
   "name": "python",
   "nbconvert_exporter": "python",
   "pygments_lexer": "ipython3",
   "version": "3.6.3"
  }
 },
 "nbformat": 4,
 "nbformat_minor": 2
}
